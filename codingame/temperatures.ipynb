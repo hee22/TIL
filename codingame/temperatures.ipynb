{
 "cells": [
  {
   "cell_type": "code",
   "execution_count": null,
   "metadata": {},
   "outputs": [],
   "source": [
    "import sys\n",
    "import math\n",
    "\n",
    "# Auto-generated code below aims at helping you parse\n",
    "# the standard input according to the problem statement.\n",
    "\n",
    "n = int(input())  # the number of temperatures to analyse\n",
    "if n == 0:\n",
    "    min_t = 0\n",
    "else:\n",
    "    min_t = 5526\n",
    "for i in input().split():\n",
    "    # t: a temperature expressed as an integer ranging from -273 to 5526\n",
    "    t = int(i)\n",
    "    if abs(t) < abs(min_t):\n",
    "        min_t = t\n",
    "        \n",
    "    elif abs(t) == abs(min_t):\n",
    "        if t > min_t:\n",
    "            min_t = t\n",
    "        \n",
    "# Write an action using print\n",
    "    \n",
    "# To debug: print(\"Debug messages...\", file=sys.stderr)\n",
    "\n",
    "print(min_t)"
   ]
  }
 ],
 "metadata": {
  "kernelspec": {
   "display_name": "Python 3",
   "language": "python",
   "name": "python3"
  },
  "language_info": {
   "codemirror_mode": {
    "name": "ipython",
    "version": 3
   },
   "file_extension": ".py",
   "mimetype": "text/x-python",
   "name": "python",
   "nbconvert_exporter": "python",
   "pygments_lexer": "ipython3",
   "version": "3.7.4"
  }
 },
 "nbformat": 4,
 "nbformat_minor": 2
}
