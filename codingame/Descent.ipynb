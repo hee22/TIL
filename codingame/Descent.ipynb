{
 "cells": [
  {
   "cell_type": "code",
   "execution_count": null,
   "metadata": {},
   "outputs": [],
   "source": [
    "import sys\n",
    "import math\n",
    "\n",
    "# The while loop represents the game.\n",
    "# Each iteration represents a turn of the game\n",
    "# where you are given inputs (the heights of the mountains)\n",
    "# and where you have to print an output (the index of the mountain to fire on)\n",
    "# The inputs you are given are automatically updated according to your last actions.\n",
    "\n",
    "\n",
    "# game loop\n",
    "\n",
    "\n",
    "while True:\n",
    "    max_h = 0\n",
    "    max_index = 0\n",
    "    \n",
    "    for i in range(8):\n",
    "        mountain_h = int(input())  # represents the height of one mountain.\n",
    "\n",
    "    # Write an action using print\n",
    "        if max_h <= mountain_h:\n",
    "            max_h = mountain_h\n",
    "            max_index = i\n",
    "    # To debug: print(\"Debug messages...\", file=sys.stderr)\n",
    "\n",
    "    # The index of the mountain to fire on.\n",
    "    print(max_index)"
   ]
  }
 ],
 "metadata": {
  "kernelspec": {
   "display_name": "Python 3",
   "language": "python",
   "name": "python3"
  },
  "language_info": {
   "codemirror_mode": {
    "name": "ipython",
    "version": 3
   },
   "file_extension": ".py",
   "mimetype": "text/x-python",
   "name": "python",
   "nbconvert_exporter": "python",
   "pygments_lexer": "ipython3",
   "version": "3.7.4"
  }
 },
 "nbformat": 4,
 "nbformat_minor": 2
}
