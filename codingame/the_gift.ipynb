{
 "cells": [
  {
   "cell_type": "code",
   "execution_count": null,
   "metadata": {},
   "outputs": [],
   "source": [
    "import sys\n",
    "import math\n",
    "\n",
    "# Auto-generated code below aims at helping you parse\n",
    "# the standard input according to the problem statement.\n",
    "\n",
    "n = int(input())\n",
    "c = int(input())\n",
    "b = [int(input()) for i in range(n)]\n",
    "b = sorted(b)\n",
    "sum_b = sum(b)\n",
    "remining = n\n",
    "    \n",
    "if sum_b < c:\n",
    "    print(\"IMPOSSIBLE\")\n",
    "    \n",
    "else:    \n",
    "    for i in range(n):\n",
    "        budget = b[i]\n",
    "        avg = c // remining\n",
    "        if budget < avg:\n",
    "            c -= budget\n",
    "            print(budget)\n",
    "        else:\n",
    "            c -= avg\n",
    "            print(avg)\n",
    "            \n",
    "        remining -= 1"
   ]
  }
 ],
 "metadata": {
  "kernelspec": {
   "display_name": "Python 3",
   "language": "python",
   "name": "python3"
  },
  "language_info": {
   "codemirror_mode": {
    "name": "ipython",
    "version": 3
   },
   "file_extension": ".py",
   "mimetype": "text/x-python",
   "name": "python",
   "nbconvert_exporter": "python",
   "pygments_lexer": "ipython3",
   "version": "3.7.4"
  }
 },
 "nbformat": 4,
 "nbformat_minor": 2
}
