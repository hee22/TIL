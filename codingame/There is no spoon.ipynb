{
 "cells": [
  {
   "cell_type": "code",
   "execution_count": null,
   "metadata": {
    "scrolled": true
   },
   "outputs": [],
   "source": [
    "import sys\n",
    "import math\n",
    "\n",
    "# Don't let the machines win. You are humanity's last hope...\n",
    "\n",
    "def find_right_power_node(power_x, power_y, cells, width, height):\n",
    "    result = (-1, -1)\n",
    "    for x in range(power_x + 1, width):\n",
    "        if cells[power_y][x] == \"0\":\n",
    "            result = (x, power_y)\n",
    "            break\n",
    "        \n",
    "    return result\n",
    "            \n",
    "def find_lower_power_node(power_x, power_y, cells, width, height):\n",
    "    result = (-1, -1)\n",
    "    for y in range(power_y + 1, height): \n",
    "        if cells[y][power_x] == \"0\":\n",
    "            result = (power_x, y)\n",
    "            break\n",
    "        \n",
    "    return result\n",
    "    \n",
    "width = int(input())  # the number of cells on the X axis\n",
    "height = int(input())  # the number of cells on the Y axis\n",
    "\n",
    "cells = [\"\"] * height\n",
    "    \n",
    "for y in range(height):\n",
    "    cells[y] = [\"\"] * width\n",
    "    line = input()  # width characters, each either 0 or .\n",
    "    for x in range(width):\n",
    "        cells[y][x] = line[x]\n",
    "    \n",
    "for y in range(height):\n",
    "    for x in range(width):\n",
    "        if cells[y][x] == \"0\":\n",
    "            right_x, right_y = find_right_power_node(x, y, cells, width, height)\n",
    "            lower_x, lower_y = find_lower_power_node(x, y, cells, width, height)\n",
    "            print(\"{} {} {} {} {} {}\".format(x, y, right_x, right_y, lower_x, lower_y))"
   ]
  },
  {
   "cell_type": "code",
   "execution_count": null,
   "metadata": {},
   "outputs": [],
   "source": []
  }
 ],
 "metadata": {
  "kernelspec": {
   "display_name": "Python 3",
   "language": "python",
   "name": "python3"
  },
  "language_info": {
   "codemirror_mode": {
    "name": "ipython",
    "version": 3
   },
   "file_extension": ".py",
   "mimetype": "text/x-python",
   "name": "python",
   "nbconvert_exporter": "python",
   "pygments_lexer": "ipython3",
   "version": "3.7.4"
  }
 },
 "nbformat": 4,
 "nbformat_minor": 2
}
