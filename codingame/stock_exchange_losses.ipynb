{
 "cells": [
  {
   "cell_type": "code",
   "execution_count": null,
   "metadata": {},
   "outputs": [],
   "source": [
    "import sys\n",
    "import math\n",
    "\n",
    "# Auto-generated code below aims at helping you parse\n",
    "# the standard input according to the problem statement.\n",
    "v_list = []\n",
    "n = int(input())\n",
    "for i in input().split():\n",
    "    v = int(i)\n",
    "    v_list.append(v)\n",
    "    \n",
    "index = 1\n",
    "max_loss = 0\n",
    "for x in v_list:\n",
    "    for y in v_list[index:]:\n",
    "        if x - y > max_loss:\n",
    "            max_loss = x - y\n",
    "    \n",
    "    index += 1\n",
    "print(max_loss * (-1))"
   ]
  }
 ],
 "metadata": {
  "kernelspec": {
   "display_name": "Python 3",
   "language": "python",
   "name": "python3"
  },
  "language_info": {
   "codemirror_mode": {
    "name": "ipython",
    "version": 3
   },
   "file_extension": ".py",
   "mimetype": "text/x-python",
   "name": "python",
   "nbconvert_exporter": "python",
   "pygments_lexer": "ipython3",
   "version": "3.7.4"
  }
 },
 "nbformat": 4,
 "nbformat_minor": 2
}
