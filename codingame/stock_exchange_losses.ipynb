{
 "cells": [
  {
   "cell_type": "code",
   "execution_count": null,
   "metadata": {},
   "outputs": [],
   "source": [
    "import sys\n",
    "import math\n",
    "\n",
    "# Auto-generated code below aims at helping you parse\n",
    "# the standard input according to the problem statement.\n",
    "max_loss = 0\n",
    "max = 0\n",
    "n = int(input())\n",
    "for i in input().split():\n",
    "    v = int(i)\n",
    "            \n",
    "    if v - max < max_loss:\n",
    "        max_loss = v - max\n",
    "    \n",
    "    if v > max:\n",
    "        max = v\n",
    "    \n",
    "print(max_loss)"
   ]
  }
 ],
 "metadata": {
  "kernelspec": {
   "display_name": "Python 3",
   "language": "python",
   "name": "python3"
  },
  "language_info": {
   "codemirror_mode": {
    "name": "ipython",
    "version": 3
   },
   "file_extension": ".py",
   "mimetype": "text/x-python",
   "name": "python",
   "nbconvert_exporter": "python",
   "pygments_lexer": "ipython3",
   "version": "3.7.4"
  }
 },
 "nbformat": 4,
 "nbformat_minor": 2
}
