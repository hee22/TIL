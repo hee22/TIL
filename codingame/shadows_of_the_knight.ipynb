{
 "cells": [
  {
   "cell_type": "code",
   "execution_count": null,
   "metadata": {},
   "outputs": [],
   "source": [
    "import sys\n",
    "import math\n",
    "\n",
    "# Auto-generated code below aims at helping you parse\n",
    "# the standard input according to the problem statement.\n",
    "\n",
    "# w: width of the building.\n",
    "# h: height of the building.\n",
    "w, h = [int(i) for i in input().split()]\n",
    "n = int(input())  # maximum number of turns before game over.\n",
    "x0, y0 = [int(i) for i in input().split()]\n",
    "\n",
    "# game loop\n",
    "min_w, min_h, max_w, max_h = 0, 0, w, h\n",
    "while True:\n",
    "    bomb_dir = input()  # the direction of the bombs from batman's current location (U, UR, R, DR, D, DL, L or UL)\n",
    "    \n",
    "    if \"R\" in bomb_dir:\n",
    "        min_w = x0 + 1\n",
    "    elif \"L\" in bomb_dir:\n",
    "        max_w = x0 - 1\n",
    "        \n",
    "    if \"D\" in bomb_dir:\n",
    "        min_h = y0 + 1\n",
    "    elif \"U\" in bomb_dir:\n",
    "        max_h = y0 - 1\n",
    "        \n",
    "    x0 = (min_w + max_w) // 2\n",
    "    y0 = (min_h + max_h) // 2\n",
    "    \n",
    "    print(x0, y0)"
   ]
  }
 ],
 "metadata": {
  "kernelspec": {
   "display_name": "Python 3",
   "language": "python",
   "name": "python3"
  },
  "language_info": {
   "codemirror_mode": {
    "name": "ipython",
    "version": 3
   },
   "file_extension": ".py",
   "mimetype": "text/x-python",
   "name": "python",
   "nbconvert_exporter": "python",
   "pygments_lexer": "ipython3",
   "version": "3.7.4"
  }
 },
 "nbformat": 4,
 "nbformat_minor": 2
}
