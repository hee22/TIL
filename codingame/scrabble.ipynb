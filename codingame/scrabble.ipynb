{
 "cells": [
  {
   "cell_type": "code",
   "execution_count": null,
   "metadata": {},
   "outputs": [],
   "source": [
    "import sys\n",
    "import math\n",
    "\n",
    "# Auto-generated code below aims at helping you parse\n",
    "# the standard input according to the problem statement.\n",
    "def get_char_score(char):\n",
    "    letter_scores = {\"a\" : 1, \"b\" : 3, \"c\" : 3, \"d\":2, \"e\":1, \"f\":4, \"g\":2, \"h\":4, \"i\":1, \"j\":8, \"k\":5, \"l\":1, \"m\":3, \"n\":1, \"o\":1, \"p\":3, \"q\":10, \"r\":1, \"s\":1, \"t\":1, \"u\":1, \"v\":4, \"w\":4, \"x\":8, \"y\":4, \"z\":10,}\n",
    "    \n",
    "    return letter_scores[char]\n",
    "    \n",
    "def is_word_feasible(word, letters):\n",
    "    for char in word:\n",
    "        if word.count(char) > letters.count(char):\n",
    "            return False\n",
    "    \n",
    "    return True\n",
    "    \n",
    "def get_word_score(word):\n",
    "    score = 0\n",
    "    for char in word:\n",
    "        score += get_char_score(char)\n",
    "    \n",
    "    return score\n",
    "\n",
    "\n",
    "dictionary = []\n",
    "max_score = 0\n",
    "max_score_word = \"\"\n",
    "n = int(input())\n",
    "for i in range(n):\n",
    "    w = input()\n",
    "    dictionary.append(w)\n",
    "letters = input()\n",
    "\n",
    "for word in dictionary:\n",
    "    if is_word_feasible(word, letters):\n",
    "        score = get_word_score(word)\n",
    "        if score > max_score:\n",
    "            max_score = score\n",
    "            max_score_word = word\n",
    "            \n",
    "print(max_score_word)"
   ]
  }
 ],
 "metadata": {
  "kernelspec": {
   "display_name": "Python 3",
   "language": "python",
   "name": "python3"
  },
  "language_info": {
   "codemirror_mode": {
    "name": "ipython",
    "version": 3
   },
   "file_extension": ".py",
   "mimetype": "text/x-python",
   "name": "python",
   "nbconvert_exporter": "python",
   "pygments_lexer": "ipython3",
   "version": "3.7.4"
  }
 },
 "nbformat": 4,
 "nbformat_minor": 2
}
