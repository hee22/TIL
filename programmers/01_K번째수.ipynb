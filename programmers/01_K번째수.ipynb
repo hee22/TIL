{
 "cells": [
  {
   "cell_type": "code",
   "execution_count": null,
   "metadata": {},
   "outputs": [],
   "source": [
    "answers = []\n",
    "def solution(array, commands):\n",
    "    for command in commands:\n",
    "        i = command[0]\n",
    "        j = command[1]\n",
    "        k = command[2]\n",
    "\n",
    "        a = array[i-1:j]\n",
    "        a.sort()\n",
    "        answer = a[k-1]\n",
    "        answers.append(answer)\n",
    "    return answers"
   ]
  }
 ],
 "metadata": {
  "kernelspec": {
   "display_name": "Python 3",
   "language": "python",
   "name": "python3"
  },
  "language_info": {
   "codemirror_mode": {
    "name": "ipython",
    "version": 3
   },
   "file_extension": ".py",
   "mimetype": "text/x-python",
   "name": "python",
   "nbconvert_exporter": "python",
   "pygments_lexer": "ipython3",
   "version": "3.7.4"
  }
 },
 "nbformat": 4,
 "nbformat_minor": 2
}
