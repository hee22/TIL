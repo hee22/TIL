{
 "cells": [
  {
   "cell_type": "code",
   "execution_count": 1,
   "metadata": {},
   "outputs": [],
   "source": [
    "def solution(answers):\n",
    "    n = len(answers)\n",
    "    su1 = [1,2,3,4,5] * (( n // 5) + 1)\n",
    "    su2 = [2,1,2,3,2,4,2,5] * (( n // 8) + 1)\n",
    "    su3 = [3,3,1,1,2,2,4,4,5,5] * (( n // 10) + 1)\n",
    "    su1_c = 0\n",
    "    su2_c = 0\n",
    "    su3_c = 0\n",
    "    answer = []\n",
    "    \n",
    "    for i in range(n):\n",
    "        if answers[i] == su1[i]:\n",
    "            su1_c += 1\n",
    "            \n",
    "        if answers[i] == su2[i]:\n",
    "            su2_c += 1\n",
    "            \n",
    "        if answers[i] == su3[i]:\n",
    "            su3_c += 1\n",
    "            \n",
    "    a = [su1_c,su2_c,su3_c]\n",
    "    max_c = max(a)\n",
    "    \n",
    "    for i in range(len(a)):\n",
    "        if max_c == a[i]:\n",
    "            answer.append(i+1)\n",
    "    return answer"
   ]
  },
  {
   "cell_type": "code",
   "execution_count": null,
   "metadata": {},
   "outputs": [],
   "source": []
  }
 ],
 "metadata": {
  "kernelspec": {
   "display_name": "Python 3",
   "language": "python",
   "name": "python3"
  },
  "language_info": {
   "codemirror_mode": {
    "name": "ipython",
    "version": 3
   },
   "file_extension": ".py",
   "mimetype": "text/x-python",
   "name": "python",
   "nbconvert_exporter": "python",
   "pygments_lexer": "ipython3",
   "version": "3.7.4"
  }
 },
 "nbformat": 4,
 "nbformat_minor": 2
}
